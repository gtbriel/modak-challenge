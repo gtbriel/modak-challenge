{
  "nbformat": 4,
  "nbformat_minor": 0,
  "metadata": {
    "colab": {
      "provenance": []
    },
    "kernelspec": {
      "name": "python3",
      "display_name": "Python 3"
    },
    "language_info": {
      "name": "python"
    }
  },
  "cells": [
    {
      "cell_type": "markdown",
      "source": [
        "# Initial Setup"
      ],
      "metadata": {
        "id": "Cb42pCxCOMUS"
      }
    },
    {
      "cell_type": "code",
      "source": [
        "import requests\n",
        "import pyspark\n",
        "import json\n",
        "from pyspark.sql.functions import *\n",
        "from pyspark.sql.types import *\n",
        "import datetime\n",
        "import matplotlib.pyplot as plt"
      ],
      "metadata": {
        "id": "nyiVLDu0LEYB"
      },
      "execution_count": 1,
      "outputs": []
    },
    {
      "cell_type": "code",
      "source": [
        "spark = pyspark.sql.SparkSession.builder.getOrCreate()\n",
        "sc = spark.sparkContext"
      ],
      "metadata": {
        "id": "vUXpLWNTKWF_"
      },
      "execution_count": 2,
      "outputs": []
    },
    {
      "cell_type": "markdown",
      "source": [
        "# Importing and Preprocessing the Data"
      ],
      "metadata": {
        "id": "yboS9tFrOQ8_"
      }
    },
    {
      "cell_type": "markdown",
      "source": [
        "## Allowance Events"
      ],
      "metadata": {
        "id": "8btJXBMEOpAn"
      }
    },
    {
      "cell_type": "code",
      "source": [
        "gist_url = \"https://gist.githubusercontent.com/DaniModak/d0cdc441bc2cab2abdc5b37e45ca5cb4/raw/13ded757082f09740a0ca351f926b74c336206ab/allowance_events\"\n",
        "response = requests.get(gist_url)\n",
        "file_content = json.loads(response.text)\n",
        "\n",
        "#the schema needs to be passed, otherwise the data will be corrupted.\n",
        "schema = StructType([\n",
        "    StructField(\"user\", StructType([\n",
        "        StructField(\"id\", StringType(), True)\n",
        "    ]), True),\n",
        "    StructField(\"event\", StructType([\n",
        "        StructField(\"timestamp\", StringType(), True),\n",
        "        StructField(\"name\", StringType(), True)\n",
        "    ]), True),\n",
        "    StructField(\"allowance\", StructType([\n",
        "        StructField(\"scheduled\", StructType([\n",
        "            StructField(\"frequency\", StringType(), True),\n",
        "            StructField(\"day\", StringType(), True)\n",
        "        ]), True),\n",
        "        StructField(\"amount\", IntegerType(), True)\n",
        "    ]), True)\n",
        "])\n",
        "\n",
        "allowance_events = spark.createDataFrame(file_content, schema)\n",
        "allowance_events = allowance_events.withColumn(\"user_id\", col(\"user.id\")) \\\n",
        "    .withColumn(\"event_timestamp\", col(\"event.timestamp\")) \\\n",
        "    .withColumn(\"event_name\", col(\"event.name\")) \\\n",
        "    .withColumn(\"allowance_scheduled_frequency\", col(\"allowance.scheduled.frequency\")) \\\n",
        "    .withColumn(\"allowance_scheduled_day\", col(\"allowance.scheduled.day\")) \\\n",
        "    .withColumn(\"allowance_amount\", col(\"allowance.amount\")) \\\n",
        "    .drop(\"user\", \"event\", \"allowance\").dropDuplicates()\n",
        "\n",
        "allowance_events.createOrReplaceTempView(\"allowance_events\")"
      ],
      "metadata": {
        "id": "d5z0PO0cOp5Z"
      },
      "execution_count": 3,
      "outputs": []
    },
    {
      "cell_type": "code",
      "source": [
        "print(allowance_events.show())"
      ],
      "metadata": {
        "colab": {
          "base_uri": "https://localhost:8080/"
        },
        "id": "6JZ2QkIAPMXL",
        "outputId": "13ac109f-fbf3-4de2-d40d-f68c39fbca8e"
      },
      "execution_count": 4,
      "outputs": [
        {
          "output_type": "stream",
          "name": "stdout",
          "text": [
            "+--------------------+-------------------+-----------------+-----------------------------+-----------------------+----------------+\n",
            "|             user_id|    event_timestamp|       event_name|allowance_scheduled_frequency|allowance_scheduled_day|allowance_amount|\n",
            "+--------------------+-------------------+-----------------+-----------------------------+-----------------------+----------------+\n",
            "|c152c34e-1126-451...| 2024-09-21 9:37:27|allowance.created|                      monthly|              first_day|             100|\n",
            "|55012a6f-f87f-476...|2024-10-04 14:35:00| allowance.edited|                       weekly|                 friday|               5|\n",
            "|eb8bc59b-1ad3-4b2...|2024-10-16 21:22:35|allowance.created|                     biweekly|                tuesday|              10|\n",
            "|51f8cbb2-b2fd-487...|2024-11-25 16:53:36| allowance.edited|                     biweekly|                tuesday|               5|\n",
            "|1de66f8e-a97e-4c4...| 2024-11-06 8:45:36| allowance.edited|                      monthly|              first_day|              10|\n",
            "|513dab1a-261d-49b...| 2024-09-30 5:59:31|allowance.created|                     biweekly|               thursday|              20|\n",
            "|1a85f16a-742d-499...|2024-09-26 14:02:54|allowance.created|                     biweekly|                 friday|              10|\n",
            "|e8ff2cad-583e-450...|2024-10-25 17:15:23|allowance.created|                      monthly|              first_day|              50|\n",
            "|5b8e2285-a82d-4e8...|2024-09-16 15:06:49|allowance.created|                       weekly|                 friday|              10|\n",
            "|7100e8fc-57c9-4df...| 2024-08-23 4:23:34|allowance.created|                       weekly|                 friday|              20|\n",
            "|aec62ba4-7b5d-450...|2024-09-04 12:07:45|allowance.created|                     biweekly|                 friday|              20|\n",
            "|6d719ed1-f4b1-439...|2024-11-25 12:59:56| allowance.edited|                       weekly|                tuesday|              20|\n",
            "|a42d402c-0028-49b...|2024-08-24 11:44:29|allowance.created|                      monthly|              first_day|              35|\n",
            "|2f7b5bdd-2133-4e4...|2024-11-03 18:16:17|allowance.created|                       weekly|                 monday|              50|\n",
            "|a6295c46-5040-4ea...|2024-11-27 10:09:47| allowance.edited|                      monthly|              first_day|               5|\n",
            "|d3bdbc18-1431-479...|2024-09-02 19:25:04| allowance.edited|                       weekly|                 monday|               1|\n",
            "|f27c8195-29a1-4b3...| 2024-09-18 4:54:07| allowance.edited|                      monthly|              first_day|              40|\n",
            "|177ceb97-36cd-45e...|2024-10-26 12:49:03|allowance.created|                       weekly|               saturday|               5|\n",
            "|69f457c9-77c7-4bb...|2024-09-19 20:40:58|allowance.created|                       weekly|                 sunday|              20|\n",
            "|e6b8cfab-0a8c-462...| 2024-11-16 0:41:45| allowance.edited|                       weekly|               saturday|               5|\n",
            "+--------------------+-------------------+-----------------+-----------------------------+-----------------------+----------------+\n",
            "only showing top 20 rows\n",
            "\n",
            "None\n"
          ]
        }
      ]
    },
    {
      "cell_type": "markdown",
      "source": [
        "## Allowance Backend Table"
      ],
      "metadata": {
        "id": "KTMkjaiDOUAg"
      }
    },
    {
      "cell_type": "code",
      "execution_count": 5,
      "metadata": {
        "id": "DS0SOlJ9JvWT"
      },
      "outputs": [],
      "source": [
        "gist_url = \"https://gist.githubusercontent.com/DaniModak/d0cdc441bc2cab2abdc5b37e45ca5cb4/raw/13ded757082f09740a0ca351f926b74c336206ab/allowance_backend_table\"\n",
        "response = requests.get(gist_url)\n",
        "file_content = response.text.split('\\n')\n",
        "headers = file_content[0].split(',')\n",
        "data = [line.split(',') for line in file_content[1:]]\n",
        "allowance_backend_table = spark.createDataFrame(data, headers)"
      ]
    },
    {
      "cell_type": "code",
      "source": [
        "## I use this logic to treat multiple data type at updated_at column. I found unix ints and timestamp mixed in that column.\n",
        "## I could use a case when to solve it as well, but I found that way more ellegant. :)\n",
        "\n",
        "allowance_backend_table = allowance_backend_table.withColumn(\"creation_date\", col(\"creation_date\").cast(\"int\")) \\\n",
        "        .withColumn(\"updated_at_minix\", col(\"updated_at\").cast(\"int\")) \\\n",
        "        .withColumn(\"next_payment_day\", col(\"next_payment_day\").cast(\"int\")) \\\n",
        "        .withColumn(\"creation_date\", from_unixtime(\"creation_date\")) \\\n",
        "        .withColumn(\"updated_at_minix\", from_unixtime(\"updated_at_minix\")) \\\n",
        "        .withColumn(\"updated_at\", to_timestamp(\"updated_at\")) \\\n",
        "        .withColumn(\"updated_at\", to_timestamp(coalesce(col(\"updated_at\"), col(\"updated_at_minix\")))).drop(\"updated_at_minix\") \\\n",
        "        .filter(\"status == 'enabled'\").dropDuplicates()\n",
        "\n",
        "allowance_backend_table.createOrReplaceTempView(\"allowance_backend_table\")\n",
        "\n",
        "allowance_backend_table.show()"
      ],
      "metadata": {
        "colab": {
          "base_uri": "https://localhost:8080/"
        },
        "id": "AWZm3l9rKwkV",
        "outputId": "1b611462-e827-484c-b139-677a662433b3"
      },
      "execution_count": 6,
      "outputs": [
        {
          "output_type": "stream",
          "name": "stdout",
          "text": [
            "+--------------------+-------------------+---------+-------------+--------------------+----------------+-------+\n",
            "|                uuid|      creation_date|frequency|          day|          updated_at|next_payment_day| status|\n",
            "+--------------------+-------------------+---------+-------------+--------------------+----------------+-------+\n",
            "|2966ceec-b14c-4ce...|2024-11-02 23:10:34|   weekly|       friday|2024-11-08 08:00:...|              15|enabled|\n",
            "|cd174bb6-eeb2-48b...|2024-10-03 17:58:50|   weekly|       monday| 2024-10-03 17:58:50|               7|enabled|\n",
            "|5972b8e0-4b5b-494...|2024-11-18 18:49:29|  monthly|    first_day|2024-11-18 18:58:...|               1|enabled|\n",
            "|67024fd1-c2ff-4fc...|2024-11-09 14:41:12|  monthly|fifteenth_day|2024-11-24 14:51:...|              15|enabled|\n",
            "|f74f401d-76ad-440...|2024-10-01 15:43:41| biweekly|       sunday|2024-11-10 08:00:...|              24|enabled|\n",
            "|5afe0b7a-1673-433...|2024-11-02 17:19:06|   weekly|       friday|2024-11-08 09:07:...|              15|enabled|\n",
            "|cab9eaef-4283-4d4...|2024-10-04 18:39:38| biweekly|       friday| 2024-10-04 18:39:38|              18|enabled|\n",
            "|82b72ae6-d248-476...|2024-11-29 01:39:13| biweekly|       friday| 2024-11-29 01:39:13|              13|enabled|\n",
            "|aa517fde-0484-4d2...|2024-11-19 13:00:41|   weekly|       friday| 2024-11-19 13:00:41|              22|enabled|\n",
            "|0623755a-d349-44f...|2024-11-30 16:28:50|  monthly|    first_day| 2024-11-30 16:28:50|               1|enabled|\n",
            "|f859d86e-ea78-486...|2024-11-22 22:40:28|   weekly|     saturday|2024-11-23 08:00:...|              30|enabled|\n",
            "|33444b84-eb01-4ba...|2024-09-26 17:57:50|   weekly|     thursday|2024-10-03 01:23:...|              10|enabled|\n",
            "|89f8bf4a-8782-415...|2024-09-02 17:36:15| biweekly|       friday|2024-09-13 08:00:...|              27|enabled|\n",
            "|462989e1-61d5-4b6...|2024-10-12 03:44:08| biweekly|       monday| 2024-10-12 03:44:08|              21|enabled|\n",
            "|e9aeac39-91ef-4a3...|2024-10-20 17:20:59|   weekly|     saturday|2024-11-30 08:00:...|               7|enabled|\n",
            "|824d047e-9307-449...|2024-09-05 22:27:16|   weekly|       sunday|2024-10-13 08:00:...|              20|enabled|\n",
            "|37d4ae3a-ce25-416...|2024-09-24 23:06:32|  monthly|    first_day| 2024-09-24 23:06:32|               1|enabled|\n",
            "|9097a093-d124-4cb...|2024-11-07 05:36:17|   weekly|     saturday|2024-11-30 08:00:...|               7|enabled|\n",
            "|c7082b1f-f852-406...|2024-09-21 01:23:29|   weekly|       monday|2024-12-02 08:00:...|               9|enabled|\n",
            "|c152c34e-1126-451...|2024-09-21 16:37:26|   weekly|       monday|2024-11-11 08:55:...|              18|enabled|\n",
            "+--------------------+-------------------+---------+-------------+--------------------+----------------+-------+\n",
            "only showing top 20 rows\n",
            "\n"
          ]
        }
      ]
    },
    {
      "cell_type": "markdown",
      "source": [
        "## Payment Schedule Backend Table"
      ],
      "metadata": {
        "id": "NxtxBDLuQZum"
      }
    },
    {
      "cell_type": "code",
      "source": [
        "gist_url = \"https://gist.githubusercontent.com/DaniModak/d0cdc441bc2cab2abdc5b37e45ca5cb4/raw/13ded757082f09740a0ca351f926b74c336206ab/payment_schedule_backend_table\"\n",
        "response = requests.get(gist_url)\n",
        "file_content = response.text.split('\\n')\n",
        "headers = file_content[0].split(',')\n",
        "data = [line.split(',') for line in file_content[1:]]\n",
        "payment_schedule_backend_table = spark.createDataFrame(data, headers).dropDuplicates()\n",
        "\n",
        "payment_schedule_backend_table.createOrReplaceTempView(\"payment_schedule_backend_table\")\n"
      ],
      "metadata": {
        "id": "-hqc7N5sQdPn"
      },
      "execution_count": 7,
      "outputs": []
    },
    {
      "cell_type": "code",
      "source": [
        "payment_schedule_backend_table.show()"
      ],
      "metadata": {
        "colab": {
          "base_uri": "https://localhost:8080/"
        },
        "id": "0Ogv6a7FQfar",
        "outputId": "19a722fb-55dd-4bc0-f238-3af6e316ae27"
      },
      "execution_count": 8,
      "outputs": [
        {
          "output_type": "stream",
          "name": "stdout",
          "text": [
            "+--------------------+------------+\n",
            "|             user_id|payment_date|\n",
            "+--------------------+------------+\n",
            "|c0b7ca59-cb4e-40f...|          13|\n",
            "|40e52192-e554-40f...|           8|\n",
            "|8e63de01-4e66-438...|           8|\n",
            "|38a54dfd-5977-4eb...|           1|\n",
            "|ef214642-7f5b-4a3...|          22|\n",
            "|fc8d5abc-e221-4f8...|           8|\n",
            "|f8b0d8e6-01d2-426...|          22|\n",
            "|22958728-5268-494...|          18|\n",
            "|176f1302-d1c1-4a9...|          16|\n",
            "|ad46dfed-b457-491...|          16|\n",
            "|6be27c0a-7cd2-408...|          13|\n",
            "|b1418f49-4768-4ff...|          13|\n",
            "|ff0bc5e7-fba6-415...|          13|\n",
            "|307c5db2-ea79-469...|           8|\n",
            "|44dd59e4-5a47-476...|           8|\n",
            "|a5eccf41-6a83-47a...|           9|\n",
            "|077e2ff6-447a-4c9...|           1|\n",
            "|c30180f3-b35c-470...|           1|\n",
            "|79ac4193-1384-416...|          18|\n",
            "|2cb3cd03-75f8-429...|          16|\n",
            "+--------------------+------------+\n",
            "only showing top 20 rows\n",
            "\n"
          ]
        }
      ]
    },
    {
      "cell_type": "markdown",
      "source": [
        "# Analyzing the Data"
      ],
      "metadata": {
        "id": "Oz76Q_2aVEjF"
      }
    },
    {
      "cell_type": "code",
      "source": [
        "# 12/03/2024 - Tuesday - We need to check the next payment date from this current date.\n",
        "\n",
        "## We need to have a single record for each user in the payment schedule table, so first of all we need to check\n",
        "## if we have more than one active record per user. I'll write SQL queries to be clearer.\n",
        "\n",
        "#spark.sql(\"SELECT user_id, count(*) as records FROM payment_schedule_backend_table group by 1 having count(*) > 1\") -- Found some issues\n",
        "#spark.sql(\"select uuid, count(*) as records from allowance_backend_table group by uuid having count(*) > 1\") -- clean\n",
        "\n",
        "## Next, I will check if allowance_scheduled_frequency and allowance_scheduled_day is, in fact, updated.\n",
        "## To do this, I will be using the ground_truth as a CTE to comparison.\n",
        "\n",
        "print(\"-- Outdated Records --\")\n",
        "spark.sql(\"\"\"\n",
        "with most_recent_events as (\n",
        "  select a.user_id, a.allowance_scheduled_frequency, a.allowance_scheduled_day\n",
        "  from allowance_events a\n",
        "  inner join (\n",
        "      select user_id, MAX(event_timestamp) AS most_recent_event_timestamp\n",
        "      from allowance_events\n",
        "      group by user_id\n",
        "  ) b on a.user_id = b.user_id and a.event_timestamp = b.most_recent_event_timestamp\n",
        "),\n",
        "check as (\n",
        "  select a.*, if(a.frequency == b.allowance_scheduled_frequency and a.day == b.allowance_scheduled_day, True, False) as check\n",
        "  from allowance_backend_table a left join most_recent_events b on a.uuid = b.user_id\n",
        ")\n",
        "select check, count(*) records from check group by 1\n",
        "\"\"\").show()\n",
        "print(\"------\")\n",
        "\n",
        "## In that case, we verified that some user ids did not update correctly."
      ],
      "metadata": {
        "colab": {
          "base_uri": "https://localhost:8080/"
        },
        "id": "h1mjdW8WVGOo",
        "outputId": "56dc13b1-31a3-4b29-d088-d16ed0ff99c5"
      },
      "execution_count": 9,
      "outputs": [
        {
          "output_type": "stream",
          "name": "stdout",
          "text": [
            "-- Outdated Records --\n",
            "+-----+-------+\n",
            "|check|records|\n",
            "+-----+-------+\n",
            "| true|   2109|\n",
            "|false|     10|\n",
            "+-----+-------+\n",
            "\n",
            "------\n"
          ]
        }
      ]
    },
    {
      "cell_type": "code",
      "source": [
        "## Now, we need to check if the next payment day is correct. To do this, I will follow a different thought\n",
        "## process and create a UDF to create a ground truth and compare with the existing data.\n",
        "\n",
        "## Global variables\n",
        "DAYS_DICT = {\n",
        "    \"monday\": 0,\n",
        "    \"tuesday\": 1,\n",
        "    \"wednesday\": 2,\n",
        "    \"thursday\": 3,\n",
        "    \"friday\": 4,\n",
        "    \"saturday\": 5,\n",
        "    \"sunday\": 6\n",
        "}\n",
        "\n",
        "def get_next_payment_day(frequency, day, process_record_date):\n",
        "  if frequency == 'weekly':\n",
        "    day_i = DAYS_DICT[day]\n",
        "    if day_i <= process_record_date.weekday():\n",
        "      return (process_record_date + datetime.timedelta(days=(7 - process_record_date.weekday()) + day_i)).day\n",
        "    else:\n",
        "      return (process_record_date + datetime.timedelta(days=day_i - process_record_date.weekday())).day\n",
        "  elif frequency == 'biweekly':\n",
        "    day_i = DAYS_DICT[day]\n",
        "    if day_i <= process_record_date.weekday():\n",
        "      return (process_record_date + datetime.timedelta(days=(14 - process_record_date.weekday()) + day_i)).day\n",
        "    else:\n",
        "      return (process_record_date + datetime.timedelta(days=day_i - process_record_date.weekday())).day\n",
        "  elif frequency == 'monthly':\n",
        "    if day == 'first_day':\n",
        "      return 1\n",
        "    elif day == 'fifteenth_day':\n",
        "      return 15\n",
        "    else:\n",
        "      raise Exception(\"Invalid day\")\n",
        "  elif frequency == 'daily':\n",
        "    return (process_record_date + datetime.timedelta(days=1)).day\n",
        "  else:\n",
        "    raise Exception(\"Invalid frequency\")\n",
        "\n",
        "get_next_payment_day_udf = udf(get_next_payment_day, IntegerType())"
      ],
      "metadata": {
        "id": "_BRiZTG2x_4_"
      },
      "execution_count": 10,
      "outputs": []
    },
    {
      "cell_type": "code",
      "source": [
        "ground_truth = spark.sql(\"\"\"\n",
        "  SELECT a.user_id, a.allowance_scheduled_frequency, a.allowance_scheduled_day\n",
        "  FROM allowance_events a\n",
        "  INNER JOIN (\n",
        "      SELECT user_id, MAX(event_timestamp) AS most_recent_event_timestamp\n",
        "      FROM allowance_events\n",
        "      GROUP BY user_id\n",
        "  ) b ON a.user_id = b.user_id AND a.event_timestamp = b.most_recent_event_timestamp\n",
        "\"\"\")\n",
        "\n",
        "next_payment_day = []\n",
        "check = ground_truth.join(allowance_backend_table, ground_truth.user_id == allowance_backend_table.uuid, \"left\")\n",
        "\n",
        "print(f\"missing records: {len(check.filter('uuid is null').collect())}\\n\") ## First of all, I check the missing records\n",
        "\n",
        "check = check.filter(\"uuid is not null\").withColumn(\"next_payment_day_gt\", get_next_payment_day_udf(col(\"allowance_scheduled_frequency\"), col(\"allowance_scheduled_day\"), to_date(col(\"updated_at\"))))\n",
        "check = check.withColumn(\"check\", col(\"next_payment_day_gt\") == col(\"next_payment_day\")) ## Then I create the check column, to verify if the next payment day is correct.\n",
        "\n",
        "print(\"overall:\")\n",
        "check.groupBy(\"check\").count().show()\n",
        "print(\"by frequency:\")\n",
        "check.groupBy(\"allowance_scheduled_frequency\", \"check\").count().orderBy(\"allowance_scheduled_frequency\", \"check\").show()"
      ],
      "metadata": {
        "id": "rXGRjJLizgk6",
        "colab": {
          "base_uri": "https://localhost:8080/"
        },
        "outputId": "e7dad279-5813-4da6-975e-b051f9f8bb2b"
      },
      "execution_count": 11,
      "outputs": [
        {
          "output_type": "stream",
          "name": "stdout",
          "text": [
            "missing records: 765\n",
            "\n",
            "overall:\n",
            "+-----+-----+\n",
            "|check|count|\n",
            "+-----+-----+\n",
            "| true| 1922|\n",
            "|false|  192|\n",
            "+-----+-----+\n",
            "\n",
            "by frequency:\n",
            "+-----------------------------+-----+-----+\n",
            "|allowance_scheduled_frequency|check|count|\n",
            "+-----------------------------+-----+-----+\n",
            "|                     biweekly|false|  176|\n",
            "|                     biweekly| true|  699|\n",
            "|                        daily|false|    1|\n",
            "|                        daily| true|   42|\n",
            "|                      monthly|false|    2|\n",
            "|                      monthly| true|  442|\n",
            "|                       weekly|false|   13|\n",
            "|                       weekly| true|  739|\n",
            "+-----------------------------+-----+-----+\n",
            "\n"
          ]
        }
      ]
    },
    {
      "cell_type": "code",
      "source": [
        "## Now, we need to check the payment_schedule_backend_table. This step will be pretty easy to solve because of our solution.\n",
        "## We should build another ground truth and compare.\n",
        "\n",
        "check_payment = check.select(\"user_id\", \"next_payment_day_gt\")\n",
        "check_payment = check_payment.join(payment_schedule_backend_table, \"user_id\", \"left\") \\\n",
        "                             .withColumn(\"check\", col(\"next_payment_day_gt\") == col(\"payment_date\"))\n",
        "\n",
        "print(f\"missing records: {len(check_payment.filter('payment_date is null').collect())}\\n\") ## First of all, I check the missing records\n",
        "print(\"overall:\")\n",
        "check_payment.groupBy(\"check\").count().show()"
      ],
      "metadata": {
        "colab": {
          "base_uri": "https://localhost:8080/"
        },
        "id": "-Zd_NS74A7MP",
        "outputId": "eaa7096f-7770-425f-f1c7-0d93e67d6246"
      },
      "execution_count": 20,
      "outputs": [
        {
          "output_type": "stream",
          "name": "stdout",
          "text": [
            "missing records: 0\n",
            "\n",
            "overall:\n",
            "+-----+-----+\n",
            "|check|count|\n",
            "+-----+-----+\n",
            "| true| 1888|\n",
            "|false|  239|\n",
            "+-----+-----+\n",
            "\n"
          ]
        }
      ]
    },
    {
      "cell_type": "markdown",
      "source": [
        "# Deep Dive"
      ],
      "metadata": {
        "id": "fD8sTNcKDv0j"
      }
    },
    {
      "cell_type": "code",
      "source": [
        "check_pandas = check.toPandas()\n",
        "\n",
        "fig, axes = plt.subplots(2, 1, figsize=(10, 8))\n",
        "\n",
        "# First plot: Frequency of Correct/Incorrect by Allowance Frequency\n",
        "frequency_counts = check_pandas.groupby(['frequency', 'check']).size().unstack(fill_value=0)\n",
        "frequency_counts.plot(kind='bar', ax=axes[0])\n",
        "axes[0].set_title('Frequency of Correct/Incorrect Next Payment Day by Allowance Frequency')\n",
        "axes[0].set_xlabel('Allowance Scheduled Frequency')\n",
        "axes[0].set_ylabel('Count')\n",
        "axes[0].tick_params(axis='x', rotation=45)\n",
        "axes[0].legend(title='Check Status')\n",
        "\n",
        "# Second plot: Frequency of Correct/Incorrect by Allowance Day\n",
        "frequency_counts = check_pandas.groupby(['day', 'check']).size().unstack(fill_value=0)\n",
        "frequency_counts.plot(kind='bar', ax=axes[1])\n",
        "axes[1].set_title('Frequency of Correct/Incorrect Next Payment Day by Allowance Day')\n",
        "axes[1].set_xlabel('Allowance Day')\n",
        "axes[1].set_ylabel('Count')\n",
        "axes[1].tick_params(axis='x', rotation=45)\n",
        "axes[1].legend(title='Check Status')\n",
        "\n",
        "# Adjust layout and show the plots\n",
        "plt.tight_layout()\n",
        "plt.show()\n"
      ],
      "metadata": {
        "colab": {
          "base_uri": "https://localhost:8080/",
          "height": 807
        },
        "id": "7frSmWYgEN0s",
        "outputId": "ceee7e40-75d9-4401-be19-0ea62f4a440a"
      },
      "execution_count": 27,
      "outputs": [
        {
          "output_type": "display_data",
          "data": {
            "text/plain": [
              "<Figure size 1000x800 with 2 Axes>"
            ],
            "image/png": "[encoded data removed]"
          },
          "metadata": {}
        }
      ]
    },
    {
      "cell_type": "code",
      "source": [
        "rank_graph_df = check.filter(\"check is false\") \\\n",
        "                     .groupBy(to_date(\"updated_at\").alias(\"updated_date\"), \"check\") \\\n",
        "                     .agg(count(\"*\").alias(\"false_record_count\")) \\\n",
        "                     .drop(\"check\").sort(col(\"false_record_count\").desc())\n",
        "\n",
        "rank_graph_df.show()"
      ],
      "metadata": {
        "colab": {
          "base_uri": "https://localhost:8080/"
        },
        "id": "C2I5rZ3aDw6y",
        "outputId": "daa2f3e5-5b2c-42f7-8895-f9a8bbb3af31"
      },
      "execution_count": 36,
      "outputs": [
        {
          "output_type": "stream",
          "name": "stdout",
          "text": [
            "+------------+------------------+\n",
            "|updated_date|false_record_count|\n",
            "+------------+------------------+\n",
            "|  2024-12-02|                16|\n",
            "|  2024-09-10|                 8|\n",
            "|  2024-11-25|                 8|\n",
            "|  2024-11-26|                 7|\n",
            "|  2024-12-03|                 7|\n",
            "|  2024-10-09|                 7|\n",
            "|  2024-11-27|                 6|\n",
            "|  2024-11-20|                 6|\n",
            "|  2024-10-01|                 6|\n",
            "|  2024-10-22|                 5|\n",
            "|  2024-09-03|                 5|\n",
            "|  2024-10-07|                 4|\n",
            "|  2024-11-18|                 4|\n",
            "|  2024-11-12|                 4|\n",
            "|  2024-09-02|                 4|\n",
            "|  2024-11-04|                 4|\n",
            "|  2024-09-26|                 4|\n",
            "|  2024-11-06|                 4|\n",
            "|  2024-09-30|                 4|\n",
            "|  2024-09-04|                 3|\n",
            "+------------+------------------+\n",
            "only showing top 20 rows\n",
            "\n"
          ]
        }
      ]
    },
    {
      "cell_type": "markdown",
      "source": [
        "# Summary\n",
        "\n",
        "### Inconsistences:\n",
        "\n",
        "1. allowance_backend_table contains multiple data types on updated_at column.\n",
        "3. allowance_backend_table contains outdated users.\n",
        "4. payment_schedule_backend_table contains more than one record per user_id.\n",
        "5. Most of the inconsistences from allowance_backend_table are linked to biweekly frequency and linked to Friday."
      ],
      "metadata": {
        "id": "6HKf0SjzVebk"
      }
    }
  ]
}